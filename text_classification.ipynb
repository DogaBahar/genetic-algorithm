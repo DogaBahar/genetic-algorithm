{
  "nbformat": 4,
  "nbformat_minor": 0,
  "metadata": {
    "colab": {
      "provenance": [],
      "collapsed_sections": [
        "-2T-OGP4dfrK"
      ]
    },
    "kernelspec": {
      "name": "python3",
      "display_name": "Python 3"
    },
    "language_info": {
      "name": "python"
    },
    "gpuClass": "standard"
  },
  "cells": [
    {
      "cell_type": "code",
      "execution_count": null,
      "metadata": {
        "id": "enA4bMWVCIg6"
      },
      "outputs": [],
      "source": [
        "from google.colab import drive\n",
        "import pandas as pd\n",
        "import matplotlib.pyplot as plt\n",
        "import seaborn as sns\n",
        "import random\n",
        "import json"
      ]
    },
    {
      "cell_type": "code",
      "source": [
        "drive.mount('/content/drive')"
      ],
      "metadata": {
        "id": "1zXjKSgJdrcL",
        "colab": {
          "base_uri": "https://localhost:8080/"
        },
        "outputId": "29f9b9c3-6706-4dd4-e094-17c190bbbdf5"
      },
      "execution_count": null,
      "outputs": [
        {
          "output_type": "stream",
          "name": "stdout",
          "text": [
            "Mounted at /content/drive\n"
          ]
        }
      ]
    },
    {
      "cell_type": "markdown",
      "source": [
        "# Dataset Creation"
      ],
      "metadata": {
        "id": "-2T-OGP4dfrK"
      }
    },
    {
      "cell_type": "code",
      "source": [
        "# root = \"/content/drive/My Drive/Verisetleri\"\n",
        "# train_data = \"train_data.txt\"\n",
        "# df = pd.read_csv(f\"{root}/{train_data}\",sep=':::',engine='python', header = None) #csv'nin ilk satırında sütun isimleri yazmıyorsa header = None vermek gerekiyor"
      ],
      "metadata": {
        "id": "h2gu7bZWoJVg"
      },
      "execution_count": null,
      "outputs": []
    },
    {
      "cell_type": "code",
      "source": [
        "# df.columns = ['id','title','genre','description']"
      ],
      "metadata": {
        "id": "boRXB-7Zo0TY"
      },
      "execution_count": null,
      "outputs": []
    },
    {
      "cell_type": "code",
      "source": [
        "# df.title = df.title.apply(lambda x: x[1: -1])\n",
        "# df.genre = df.genre.apply(lambda x: x[1: -1])\n",
        "# df.description = df.description.apply(lambda x: x[1:])"
      ],
      "metadata": {
        "id": "pq0fgqo4WuQM"
      },
      "execution_count": null,
      "outputs": []
    },
    {
      "cell_type": "code",
      "source": [
        "# plt.style.use('fivethirtyeight')\n",
        "# plt.figure(figsize = (12, 5))\n",
        "# sns.countplot(x = df['genre']) # Count of number of descriptions for each class label\n",
        "# plt.xticks(rotation = 60)\n",
        "# plt.show()"
      ],
      "metadata": {
        "id": "bZs14x7xo2Cd"
      },
      "execution_count": null,
      "outputs": []
    },
    {
      "cell_type": "code",
      "source": [
        "# comedy = df[df[\"genre\"] == \"comedy\"].sample(50)\n",
        "# horror = df[df[\"genre\"] == \"horror\"].sample(50)\n",
        "# sport = df[df[\"genre\"] == \"sport\"].sample(50)\n",
        "# animation = df[df[\"genre\"] == \"animation\"].sample(50)\n",
        "# drama = df[df[\"genre\"] == \"drama\"].sample(50)\n",
        "# scifi = df[df[\"genre\"] == \"sci-fi\"].sample(50)\n",
        "# documentary = df[df[\"genre\"] == \"documentary\"].sample(50)\n",
        "# music = df[df[\"genre\"] == \"music\"].sample(50)\n",
        "# crime = df[df[\"genre\"] == \"crime\"].sample(50)\n",
        "# family = df[df[\"genre\"] == \"family\"].sample(50)"
      ],
      "metadata": {
        "id": "6RcfHk0VrREt"
      },
      "execution_count": null,
      "outputs": []
    },
    {
      "cell_type": "code",
      "source": [
        "# pd.concat([comedy, horror]).reset_index().drop([\"index\", \"id\", \"title\"], axis = 1).to_csv(f\"{root}/mini_datasets/comedy_horror.csv\", index = False)\n",
        "# pd.concat([sport, animation]).reset_index().drop([\"index\", \"id\", \"title\"], axis = 1).to_csv(f\"{root}/mini_datasets/sport_animation.csv\", index = False)\n",
        "# pd.concat([drama, scifi]).reset_index().drop([\"index\", \"id\", \"title\"], axis = 1).to_csv(f\"{root}/mini_datasets/drama_scifi.csv\", index = False)\n",
        "# pd.concat([documentary, music]).reset_index().drop([\"index\", \"id\", \"title\"], axis = 1).to_csv(f\"{root}/mini_datasets/documentary_music.csv\", index = False)\n",
        "# pd.concat([crime, family]).reset_index().drop([\"index\", \"id\", \"title\"], axis = 1).to_csv(f\"{root}/mini_datasets/crime_family.csv\", index = False)"
      ],
      "metadata": {
        "id": "o21z-Z7fanfK"
      },
      "execution_count": null,
      "outputs": []
    },
    {
      "cell_type": "markdown",
      "source": [
        "# Classification"
      ],
      "metadata": {
        "id": "x2x7Hwt1dk69"
      }
    },
    {
      "cell_type": "code",
      "source": [
        "def preprocess(text):\n",
        "    # Metni küçük harfe dönüştürün ve noktalama işaretlerini kaldırın.\n",
        "    text = text.lower()\n",
        "    return ''.join(c for c in text if c not in '!\"#$%&\\'()*+,-./:;<=>?@[\\\\]^_`{|}~')"
      ],
      "metadata": {
        "id": "hruDaoasiRLw"
      },
      "execution_count": null,
      "outputs": []
    },
    {
      "cell_type": "code",
      "source": [
        "def create_random_individual(all_words, n_genes):\n",
        "    individual = set()\n",
        "\n",
        "    while len(individual) < n_genes:\n",
        "        individual.add(random.choice(all_words))\n",
        "    \n",
        "    return list(individual)"
      ],
      "metadata": {
        "id": "0jW5sRTbgl_s"
      },
      "execution_count": null,
      "outputs": []
    },
    {
      "cell_type": "code",
      "source": [
        "def create_initial_population(all_words, size, n_genes):\n",
        "    return [create_random_individual(all_words, n_genes) for _ in range(size)]"
      ],
      "metadata": {
        "id": "kmxFZIJ9klDp"
      },
      "execution_count": null,
      "outputs": []
    },
    {
      "cell_type": "code",
      "source": [
        "def fitness_function(individual, data):\n",
        "    correct_predictions = 0\n",
        "    classes = data['genre'].unique()\n",
        "    label_to_id = {x: i for i, x in enumerate(classes)}\n",
        "\n",
        "    for _, row in data.iterrows():\n",
        "        text, label = row['description'], row['genre']\n",
        "        words_in_text = set(text.split())\n",
        "\n",
        "        words_in_individual = set(individual[:len(individual)//2])  # 1. sınıfa ait kelimeler\n",
        "        score1 = len(words_in_text.intersection(words_in_individual))\n",
        "        \n",
        "        words_in_individual = set(individual[len(individual)//2:])  # 2. sınıfa ait kelimeler\n",
        "        score2 = len(words_in_text.intersection(words_in_individual))\n",
        "        \n",
        "        predicted_label = 0 if score1 > score2 else 1 if score2 > score1 else random.choice([0, 1])\n",
        "        \n",
        "        if predicted_label == label_to_id[label]:\n",
        "            correct_predictions += 1\n",
        "\n",
        "    return correct_predictions / len(data)"
      ],
      "metadata": {
        "id": "O0vpKs6UnPO7"
      },
      "execution_count": null,
      "outputs": []
    },
    {
      "cell_type": "code",
      "source": [
        "def selection(population, n_best, data):\n",
        "    population.sort(key = lambda x: fitness_function(x, data), reverse = True)\n",
        "    return population[:n_best]"
      ],
      "metadata": {
        "id": "2eWGPjF4spLQ"
      },
      "execution_count": null,
      "outputs": []
    },
    {
      "cell_type": "code",
      "source": [
        "def crossover(parent1, parent2):\n",
        "    crossover_point = random.randint(1, len(parent1) - 1)\n",
        "    child1 = parent1[:crossover_point] + parent2[crossover_point:]\n",
        "    child2 = parent2[:crossover_point] + parent1[crossover_point:]\n",
        "    return child1, child2"
      ],
      "metadata": {
        "id": "UO4Mg4bzsr3D"
      },
      "execution_count": null,
      "outputs": []
    },
    {
      "cell_type": "code",
      "source": [
        "def mutate(all_words, individual, mutation_rate):\n",
        "    for i in range(len(individual)):\n",
        "        if random.random() < mutation_rate:\n",
        "            word = random.choice(all_words)\n",
        "\n",
        "            while word in individual:\n",
        "                word = random.choice(all_words)\n",
        "                \n",
        "            individual[i] = word\n",
        "\n",
        "    return individual"
      ],
      "metadata": {
        "id": "33tWJlqGs3Fb"
      },
      "execution_count": null,
      "outputs": []
    },
    {
      "cell_type": "code",
      "source": [
        "def create_new_generation(all_words, population, mutation_rate, data):\n",
        "    n_best = len(population) // 2\n",
        "    new_population = selection(population, n_best, data)\n",
        "    \n",
        "    parents = new_population[:]\n",
        "    while len(new_population) < len(population):\n",
        "        parent1 = parents.pop(random.randint(0, len(parents) - 1))\n",
        "        parent2 = parents.pop(random.randint(0, len(parents) - 1))\n",
        "        child1, child2 = crossover(parent1, parent2)\n",
        "        new_population.extend([mutate(all_words, child1, mutation_rate), mutate(all_words, child2, mutation_rate)])\n",
        "\n",
        "    return new_population"
      ],
      "metadata": {
        "id": "0WoXSoH_tBxl"
      },
      "execution_count": 99,
      "outputs": []
    },
    {
      "cell_type": "code",
      "source": [
        "def genetic_algorithm(data, all_words, population_size, n_genes, mutation_rate, n_generations):\n",
        "    population = create_initial_population(all_words, population_size, n_genes)\n",
        "    scores = []\n",
        "    for _ in range(n_generations):\n",
        "        population = create_new_generation(all_words, population, mutation_rate, data)\n",
        "        \n",
        "        best_individual = max(population, key = lambda x: fitness_function(x, data))\n",
        "        best_score = fitness_function(best_individual, data)\n",
        "\n",
        "        scores.append(best_score)\n",
        "\n",
        "    return best_individual, best_score, scores"
      ],
      "metadata": {
        "id": "berv9CFqrr-k"
      },
      "execution_count": 100,
      "outputs": []
    },
    {
      "cell_type": "code",
      "source": [
        "root = \"/content/drive/MyDrive/Verisetleri/mini_datasets\"\n",
        "dataset_names = [\"comedy_horror\", \"sport_animation\", \"drama_scifi\", \"documentary_music\", \"crime_family\"]\n",
        "n_genes_list = [10, 50, 100]\n",
        "population_size_list = [100, 200, 300]\n",
        "mutation_rate = 0.1\n",
        "n_generations = 300\n",
        "start_idx, end_idx = 3, 4"
      ],
      "metadata": {
        "id": "1m9rsUjamyCg"
      },
      "execution_count": null,
      "outputs": []
    },
    {
      "cell_type": "code",
      "source": [
        "results = {dataset_name: {n_genes: {population_size: 0 for population_size in population_size_list} for n_genes in n_genes_list} for dataset_name in dataset_names[start_idx: end_idx]}\n",
        "for dataset_name in dataset_names[start_idx: end_idx]:\n",
        "    df = pd.read_csv(f\"{root}/{dataset_name}.csv\")\n",
        "    df['description'] = df['description'].apply(preprocess)\n",
        "    all_words = list(set(' '.join(df['description']).split()))\n",
        "    for n_genes in n_genes_list:\n",
        "        for population_size in population_size_list:\n",
        "            best_individual, best_score = genetic_algorithm(df, all_words, population_size, n_genes, mutation_rate, n_generations)\n",
        "            results[dataset_name][n_genes][population_size] = {\"individual\": best_individual, \"score\": best_score}\n",
        "            print(f\"{dataset_name} dataset, {n_genes} genes, {population_size} population size finished!\")"
      ],
      "metadata": {
        "id": "9c90jObmtsje",
        "colab": {
          "base_uri": "https://localhost:8080/"
        },
        "outputId": "f4569e0c-0a47-40bd-ce7f-3c8fdb1f0392"
      },
      "execution_count": null,
      "outputs": [
        {
          "output_type": "stream",
          "name": "stdout",
          "text": [
            "documentary_music dataset, 10 genes, 100 population size finished!\n",
            "documentary_music dataset, 10 genes, 200 population size finished!\n",
            "documentary_music dataset, 10 genes, 300 population size finished!\n",
            "documentary_music dataset, 50 genes, 100 population size finished!\n",
            "documentary_music dataset, 50 genes, 200 population size finished!\n",
            "documentary_music dataset, 50 genes, 300 population size finished!\n",
            "documentary_music dataset, 100 genes, 100 population size finished!\n",
            "documentary_music dataset, 100 genes, 200 population size finished!\n",
            "documentary_music dataset, 100 genes, 300 population size finished!\n"
          ]
        }
      ]
    },
    {
      "cell_type": "code",
      "source": [
        "with open(f\"{root}/{dataset_names[start_idx]}_results.json\", \"w\", encoding = \"utf-8\") as result_file:\n",
        "    json.dump(results, result_file)"
      ],
      "metadata": {
        "id": "i1PIbV1GeLtQ"
      },
      "execution_count": null,
      "outputs": []
    },
    {
      "cell_type": "code",
      "source": [
        "df1 = pd.read_json(f\"{root}/comedy_horror_results.json\")"
      ],
      "metadata": {
        "id": "2jzg1BWfBIsl"
      },
      "execution_count": null,
      "outputs": []
    },
    {
      "cell_type": "code",
      "source": [
        "df1"
      ],
      "metadata": {
        "id": "b3SF7y93Bpad"
      },
      "execution_count": null,
      "outputs": []
    },
    {
      "cell_type": "code",
      "source": [
        "f = open(f\"{root}/comedy_horror_results.json\")\n",
        "\n",
        "data1 = json.load(f)"
      ],
      "metadata": {
        "id": "S0-8Q_LtBp34"
      },
      "execution_count": null,
      "outputs": []
    },
    {
      "cell_type": "code",
      "source": [
        "data1['comedy_horror']['100']"
      ],
      "metadata": {
        "id": "CN1arLF0B8H9"
      },
      "execution_count": null,
      "outputs": []
    },
    {
      "cell_type": "code",
      "source": [
        "df_comedy_horror = pd.DataFrame(data1['comedy_horror']).applymap(lambda x: x['score'])"
      ],
      "metadata": {
        "id": "i4QgFiivB8oF"
      },
      "execution_count": null,
      "outputs": []
    },
    {
      "cell_type": "code",
      "source": [
        "data1['comedy_horror']['100']['300']['individual']"
      ],
      "metadata": {
        "id": "2ImaEZ5LMH8M"
      },
      "execution_count": null,
      "outputs": []
    },
    {
      "cell_type": "code",
      "source": [
        "df_comedy_horror"
      ],
      "metadata": {
        "colab": {
          "base_uri": "https://localhost:8080/",
          "height": 143
        },
        "id": "F2fnlD8tDGJh",
        "outputId": "526b4339-4def-42cc-dbdf-9b0226b7ad36"
      },
      "execution_count": null,
      "outputs": [
        {
          "output_type": "execute_result",
          "data": {
            "text/plain": [
              "       10    50   100\n",
              "100  0.66  0.94  0.92\n",
              "200  0.77  0.95  0.93\n",
              "300  0.77  0.93  0.93"
            ],
            "text/html": [
              "\n",
              "  <div id=\"df-395ca66f-289b-46b3-9fd1-605f0f3ff97d\">\n",
              "    <div class=\"colab-df-container\">\n",
              "      <div>\n",
              "<style scoped>\n",
              "    .dataframe tbody tr th:only-of-type {\n",
              "        vertical-align: middle;\n",
              "    }\n",
              "\n",
              "    .dataframe tbody tr th {\n",
              "        vertical-align: top;\n",
              "    }\n",
              "\n",
              "    .dataframe thead th {\n",
              "        text-align: right;\n",
              "    }\n",
              "</style>\n",
              "<table border=\"1\" class=\"dataframe\">\n",
              "  <thead>\n",
              "    <tr style=\"text-align: right;\">\n",
              "      <th></th>\n",
              "      <th>10</th>\n",
              "      <th>50</th>\n",
              "      <th>100</th>\n",
              "    </tr>\n",
              "  </thead>\n",
              "  <tbody>\n",
              "    <tr>\n",
              "      <th>100</th>\n",
              "      <td>0.66</td>\n",
              "      <td>0.94</td>\n",
              "      <td>0.92</td>\n",
              "    </tr>\n",
              "    <tr>\n",
              "      <th>200</th>\n",
              "      <td>0.77</td>\n",
              "      <td>0.95</td>\n",
              "      <td>0.93</td>\n",
              "    </tr>\n",
              "    <tr>\n",
              "      <th>300</th>\n",
              "      <td>0.77</td>\n",
              "      <td>0.93</td>\n",
              "      <td>0.93</td>\n",
              "    </tr>\n",
              "  </tbody>\n",
              "</table>\n",
              "</div>\n",
              "      <button class=\"colab-df-convert\" onclick=\"convertToInteractive('df-395ca66f-289b-46b3-9fd1-605f0f3ff97d')\"\n",
              "              title=\"Convert this dataframe to an interactive table.\"\n",
              "              style=\"display:none;\">\n",
              "        \n",
              "  <svg xmlns=\"http://www.w3.org/2000/svg\" height=\"24px\"viewBox=\"0 0 24 24\"\n",
              "       width=\"24px\">\n",
              "    <path d=\"M0 0h24v24H0V0z\" fill=\"none\"/>\n",
              "    <path d=\"M18.56 5.44l.94 2.06.94-2.06 2.06-.94-2.06-.94-.94-2.06-.94 2.06-2.06.94zm-11 1L8.5 8.5l.94-2.06 2.06-.94-2.06-.94L8.5 2.5l-.94 2.06-2.06.94zm10 10l.94 2.06.94-2.06 2.06-.94-2.06-.94-.94-2.06-.94 2.06-2.06.94z\"/><path d=\"M17.41 7.96l-1.37-1.37c-.4-.4-.92-.59-1.43-.59-.52 0-1.04.2-1.43.59L10.3 9.45l-7.72 7.72c-.78.78-.78 2.05 0 2.83L4 21.41c.39.39.9.59 1.41.59.51 0 1.02-.2 1.41-.59l7.78-7.78 2.81-2.81c.8-.78.8-2.07 0-2.86zM5.41 20L4 18.59l7.72-7.72 1.47 1.35L5.41 20z\"/>\n",
              "  </svg>\n",
              "      </button>\n",
              "      \n",
              "  <style>\n",
              "    .colab-df-container {\n",
              "      display:flex;\n",
              "      flex-wrap:wrap;\n",
              "      gap: 12px;\n",
              "    }\n",
              "\n",
              "    .colab-df-convert {\n",
              "      background-color: #E8F0FE;\n",
              "      border: none;\n",
              "      border-radius: 50%;\n",
              "      cursor: pointer;\n",
              "      display: none;\n",
              "      fill: #1967D2;\n",
              "      height: 32px;\n",
              "      padding: 0 0 0 0;\n",
              "      width: 32px;\n",
              "    }\n",
              "\n",
              "    .colab-df-convert:hover {\n",
              "      background-color: #E2EBFA;\n",
              "      box-shadow: 0px 1px 2px rgba(60, 64, 67, 0.3), 0px 1px 3px 1px rgba(60, 64, 67, 0.15);\n",
              "      fill: #174EA6;\n",
              "    }\n",
              "\n",
              "    [theme=dark] .colab-df-convert {\n",
              "      background-color: #3B4455;\n",
              "      fill: #D2E3FC;\n",
              "    }\n",
              "\n",
              "    [theme=dark] .colab-df-convert:hover {\n",
              "      background-color: #434B5C;\n",
              "      box-shadow: 0px 1px 3px 1px rgba(0, 0, 0, 0.15);\n",
              "      filter: drop-shadow(0px 1px 2px rgba(0, 0, 0, 0.3));\n",
              "      fill: #FFFFFF;\n",
              "    }\n",
              "  </style>\n",
              "\n",
              "      <script>\n",
              "        const buttonEl =\n",
              "          document.querySelector('#df-395ca66f-289b-46b3-9fd1-605f0f3ff97d button.colab-df-convert');\n",
              "        buttonEl.style.display =\n",
              "          google.colab.kernel.accessAllowed ? 'block' : 'none';\n",
              "\n",
              "        async function convertToInteractive(key) {\n",
              "          const element = document.querySelector('#df-395ca66f-289b-46b3-9fd1-605f0f3ff97d');\n",
              "          const dataTable =\n",
              "            await google.colab.kernel.invokeFunction('convertToInteractive',\n",
              "                                                     [key], {});\n",
              "          if (!dataTable) return;\n",
              "\n",
              "          const docLinkHtml = 'Like what you see? Visit the ' +\n",
              "            '<a target=\"_blank\" href=https://colab.research.google.com/notebooks/data_table.ipynb>data table notebook</a>'\n",
              "            + ' to learn more about interactive tables.';\n",
              "          element.innerHTML = '';\n",
              "          dataTable['output_type'] = 'display_data';\n",
              "          await google.colab.output.renderOutput(dataTable, element);\n",
              "          const docLink = document.createElement('div');\n",
              "          docLink.innerHTML = docLinkHtml;\n",
              "          element.appendChild(docLink);\n",
              "        }\n",
              "      </script>\n",
              "    </div>\n",
              "  </div>\n",
              "  "
            ]
          },
          "metadata": {},
          "execution_count": 71
        }
      ]
    },
    {
      "cell_type": "code",
      "source": [
        "plt.figure()\n",
        "df_comedy_horror.plot(lw=2, colormap='jet', marker='.', markersize=10, title='Comedy Horror population')\n",
        "plt.xlabel('population size')\n",
        "plt.ylabel('score')\n",
        "plt.legend([\"n_genes=10\", \"n_genes=50\", \"n_genes=100\"])\n",
        "plt.show()\n"
      ],
      "metadata": {
        "colab": {
          "base_uri": "https://localhost:8080/",
          "height": 489
        },
        "id": "bwW3UCGvDt7h",
        "outputId": "e418b564-1dbd-4224-cf9f-2dae307c5f7b"
      },
      "execution_count": null,
      "outputs": [
        {
          "output_type": "display_data",
          "data": {
            "text/plain": [
              "<Figure size 640x480 with 0 Axes>"
            ]
          },
          "metadata": {}
        },
        {
          "output_type": "display_data",
          "data": {
            "text/plain": [
              "<Figure size 640x480 with 1 Axes>"
            ],
            "image/png": "[encoded data removed]"
          },
          "metadata": {}
        }
      ]
    },
    {
      "cell_type": "code",
      "source": [
        "f1 = open(f\"{root}/crime_family_results.json\")\n",
        "\n",
        "data2 = json.load(f1)"
      ],
      "metadata": {
        "id": "AxcBm_C0GOWw"
      },
      "execution_count": null,
      "outputs": []
    },
    {
      "cell_type": "code",
      "source": [
        "df_crime_family = pd.DataFrame(data2['crime_family']).applymap(lambda x: x['score'])"
      ],
      "metadata": {
        "id": "ItefPa5rGMWp"
      },
      "execution_count": null,
      "outputs": []
    },
    {
      "cell_type": "code",
      "source": [
        "data2['crime_family']['100']['300']['individual']"
      ],
      "metadata": {
        "id": "gBABrMYnMVZ9"
      },
      "execution_count": null,
      "outputs": []
    },
    {
      "cell_type": "code",
      "source": [
        "df_crime_family"
      ],
      "metadata": {
        "colab": {
          "base_uri": "https://localhost:8080/",
          "height": 143
        },
        "id": "ipW-D78KHh6V",
        "outputId": "6d8d3c20-eabd-4d4f-dd9d-8d89908b6bbd"
      },
      "execution_count": null,
      "outputs": [
        {
          "output_type": "execute_result",
          "data": {
            "text/plain": [
              "       10    50   100\n",
              "100  0.77  0.91  0.91\n",
              "200  0.79  0.96  0.99\n",
              "300  0.75  0.97  0.99"
            ],
            "text/html": [
              "\n",
              "  <div id=\"df-79e101f9-be57-4c33-bc9e-365187f0c080\">\n",
              "    <div class=\"colab-df-container\">\n",
              "      <div>\n",
              "<style scoped>\n",
              "    .dataframe tbody tr th:only-of-type {\n",
              "        vertical-align: middle;\n",
              "    }\n",
              "\n",
              "    .dataframe tbody tr th {\n",
              "        vertical-align: top;\n",
              "    }\n",
              "\n",
              "    .dataframe thead th {\n",
              "        text-align: right;\n",
              "    }\n",
              "</style>\n",
              "<table border=\"1\" class=\"dataframe\">\n",
              "  <thead>\n",
              "    <tr style=\"text-align: right;\">\n",
              "      <th></th>\n",
              "      <th>10</th>\n",
              "      <th>50</th>\n",
              "      <th>100</th>\n",
              "    </tr>\n",
              "  </thead>\n",
              "  <tbody>\n",
              "    <tr>\n",
              "      <th>100</th>\n",
              "      <td>0.77</td>\n",
              "      <td>0.91</td>\n",
              "      <td>0.91</td>\n",
              "    </tr>\n",
              "    <tr>\n",
              "      <th>200</th>\n",
              "      <td>0.79</td>\n",
              "      <td>0.96</td>\n",
              "      <td>0.99</td>\n",
              "    </tr>\n",
              "    <tr>\n",
              "      <th>300</th>\n",
              "      <td>0.75</td>\n",
              "      <td>0.97</td>\n",
              "      <td>0.99</td>\n",
              "    </tr>\n",
              "  </tbody>\n",
              "</table>\n",
              "</div>\n",
              "      <button class=\"colab-df-convert\" onclick=\"convertToInteractive('df-79e101f9-be57-4c33-bc9e-365187f0c080')\"\n",
              "              title=\"Convert this dataframe to an interactive table.\"\n",
              "              style=\"display:none;\">\n",
              "        \n",
              "  <svg xmlns=\"http://www.w3.org/2000/svg\" height=\"24px\"viewBox=\"0 0 24 24\"\n",
              "       width=\"24px\">\n",
              "    <path d=\"M0 0h24v24H0V0z\" fill=\"none\"/>\n",
              "    <path d=\"M18.56 5.44l.94 2.06.94-2.06 2.06-.94-2.06-.94-.94-2.06-.94 2.06-2.06.94zm-11 1L8.5 8.5l.94-2.06 2.06-.94-2.06-.94L8.5 2.5l-.94 2.06-2.06.94zm10 10l.94 2.06.94-2.06 2.06-.94-2.06-.94-.94-2.06-.94 2.06-2.06.94z\"/><path d=\"M17.41 7.96l-1.37-1.37c-.4-.4-.92-.59-1.43-.59-.52 0-1.04.2-1.43.59L10.3 9.45l-7.72 7.72c-.78.78-.78 2.05 0 2.83L4 21.41c.39.39.9.59 1.41.59.51 0 1.02-.2 1.41-.59l7.78-7.78 2.81-2.81c.8-.78.8-2.07 0-2.86zM5.41 20L4 18.59l7.72-7.72 1.47 1.35L5.41 20z\"/>\n",
              "  </svg>\n",
              "      </button>\n",
              "      \n",
              "  <style>\n",
              "    .colab-df-container {\n",
              "      display:flex;\n",
              "      flex-wrap:wrap;\n",
              "      gap: 12px;\n",
              "    }\n",
              "\n",
              "    .colab-df-convert {\n",
              "      background-color: #E8F0FE;\n",
              "      border: none;\n",
              "      border-radius: 50%;\n",
              "      cursor: pointer;\n",
              "      display: none;\n",
              "      fill: #1967D2;\n",
              "      height: 32px;\n",
              "      padding: 0 0 0 0;\n",
              "      width: 32px;\n",
              "    }\n",
              "\n",
              "    .colab-df-convert:hover {\n",
              "      background-color: #E2EBFA;\n",
              "      box-shadow: 0px 1px 2px rgba(60, 64, 67, 0.3), 0px 1px 3px 1px rgba(60, 64, 67, 0.15);\n",
              "      fill: #174EA6;\n",
              "    }\n",
              "\n",
              "    [theme=dark] .colab-df-convert {\n",
              "      background-color: #3B4455;\n",
              "      fill: #D2E3FC;\n",
              "    }\n",
              "\n",
              "    [theme=dark] .colab-df-convert:hover {\n",
              "      background-color: #434B5C;\n",
              "      box-shadow: 0px 1px 3px 1px rgba(0, 0, 0, 0.15);\n",
              "      filter: drop-shadow(0px 1px 2px rgba(0, 0, 0, 0.3));\n",
              "      fill: #FFFFFF;\n",
              "    }\n",
              "  </style>\n",
              "\n",
              "      <script>\n",
              "        const buttonEl =\n",
              "          document.querySelector('#df-79e101f9-be57-4c33-bc9e-365187f0c080 button.colab-df-convert');\n",
              "        buttonEl.style.display =\n",
              "          google.colab.kernel.accessAllowed ? 'block' : 'none';\n",
              "\n",
              "        async function convertToInteractive(key) {\n",
              "          const element = document.querySelector('#df-79e101f9-be57-4c33-bc9e-365187f0c080');\n",
              "          const dataTable =\n",
              "            await google.colab.kernel.invokeFunction('convertToInteractive',\n",
              "                                                     [key], {});\n",
              "          if (!dataTable) return;\n",
              "\n",
              "          const docLinkHtml = 'Like what you see? Visit the ' +\n",
              "            '<a target=\"_blank\" href=https://colab.research.google.com/notebooks/data_table.ipynb>data table notebook</a>'\n",
              "            + ' to learn more about interactive tables.';\n",
              "          element.innerHTML = '';\n",
              "          dataTable['output_type'] = 'display_data';\n",
              "          await google.colab.output.renderOutput(dataTable, element);\n",
              "          const docLink = document.createElement('div');\n",
              "          docLink.innerHTML = docLinkHtml;\n",
              "          element.appendChild(docLink);\n",
              "        }\n",
              "      </script>\n",
              "    </div>\n",
              "  </div>\n",
              "  "
            ]
          },
          "metadata": {},
          "execution_count": 45
        }
      ]
    },
    {
      "cell_type": "code",
      "source": [
        "data2['crime_family']['100']['300']['individual']"
      ],
      "metadata": {
        "id": "5wIUIqbSL2xX"
      },
      "execution_count": null,
      "outputs": []
    },
    {
      "cell_type": "code",
      "source": [
        "plt.figure()\n",
        "df_crime_family.plot(lw=2, colormap='jet', marker='.', markersize=10, title='Crime Family Population')\n",
        "plt.xlabel('population size')\n",
        "plt.ylabel('score')\n",
        "plt.legend([\"n_genes=10\", \"n_genes=50\", \"n_genes=100\"])\n",
        "plt.show()\n"
      ],
      "metadata": {
        "colab": {
          "base_uri": "https://localhost:8080/",
          "height": 489
        },
        "id": "t5er8wp_HvvF",
        "outputId": "8379b051-6e2c-4202-8e16-3558865be0ad"
      },
      "execution_count": null,
      "outputs": [
        {
          "output_type": "display_data",
          "data": {
            "text/plain": [
              "<Figure size 640x480 with 0 Axes>"
            ]
          },
          "metadata": {}
        },
        {
          "output_type": "display_data",
          "data": {
            "text/plain": [
              "<Figure size 640x480 with 1 Axes>"
            ],
            "image/png": "[encoded data removed]"
          },
          "metadata": {}
        }
      ]
    },
    {
      "cell_type": "code",
      "source": [
        "f2 = open(f\"{root}/documentary_music_results.json\")\n",
        "\n",
        "data3 = json.load(f2)"
      ],
      "metadata": {
        "id": "OAAKS6HcHzeA"
      },
      "execution_count": null,
      "outputs": []
    },
    {
      "cell_type": "code",
      "source": [
        "df_documentary_music = pd.DataFrame(data3['documentary_music']).applymap(lambda x: x['score'])"
      ],
      "metadata": {
        "id": "H47SlBnGIARt"
      },
      "execution_count": null,
      "outputs": []
    },
    {
      "cell_type": "code",
      "source": [
        "data3['documentary_music']['50']['300']['individual']"
      ],
      "metadata": {
        "id": "7rmztt60M14T"
      },
      "execution_count": null,
      "outputs": []
    },
    {
      "cell_type": "code",
      "source": [
        "df_documentary_music"
      ],
      "metadata": {
        "colab": {
          "base_uri": "https://localhost:8080/",
          "height": 143
        },
        "id": "QiuSFLJzIY_a",
        "outputId": "8c5cc972-9cc1-4e8e-a68d-81e7f97bb263"
      },
      "execution_count": null,
      "outputs": [
        {
          "output_type": "execute_result",
          "data": {
            "text/plain": [
              "       10    50   100\n",
              "100  0.75  0.91  0.98\n",
              "200  0.82  0.94  0.98\n",
              "300  0.79  0.98  0.96"
            ],
            "text/html": [
              "\n",
              "  <div id=\"df-e05c7efe-1270-4f64-954a-dc42d06f0400\">\n",
              "    <div class=\"colab-df-container\">\n",
              "      <div>\n",
              "<style scoped>\n",
              "    .dataframe tbody tr th:only-of-type {\n",
              "        vertical-align: middle;\n",
              "    }\n",
              "\n",
              "    .dataframe tbody tr th {\n",
              "        vertical-align: top;\n",
              "    }\n",
              "\n",
              "    .dataframe thead th {\n",
              "        text-align: right;\n",
              "    }\n",
              "</style>\n",
              "<table border=\"1\" class=\"dataframe\">\n",
              "  <thead>\n",
              "    <tr style=\"text-align: right;\">\n",
              "      <th></th>\n",
              "      <th>10</th>\n",
              "      <th>50</th>\n",
              "      <th>100</th>\n",
              "    </tr>\n",
              "  </thead>\n",
              "  <tbody>\n",
              "    <tr>\n",
              "      <th>100</th>\n",
              "      <td>0.75</td>\n",
              "      <td>0.91</td>\n",
              "      <td>0.98</td>\n",
              "    </tr>\n",
              "    <tr>\n",
              "      <th>200</th>\n",
              "      <td>0.82</td>\n",
              "      <td>0.94</td>\n",
              "      <td>0.98</td>\n",
              "    </tr>\n",
              "    <tr>\n",
              "      <th>300</th>\n",
              "      <td>0.79</td>\n",
              "      <td>0.98</td>\n",
              "      <td>0.96</td>\n",
              "    </tr>\n",
              "  </tbody>\n",
              "</table>\n",
              "</div>\n",
              "      <button class=\"colab-df-convert\" onclick=\"convertToInteractive('df-e05c7efe-1270-4f64-954a-dc42d06f0400')\"\n",
              "              title=\"Convert this dataframe to an interactive table.\"\n",
              "              style=\"display:none;\">\n",
              "        \n",
              "  <svg xmlns=\"http://www.w3.org/2000/svg\" height=\"24px\"viewBox=\"0 0 24 24\"\n",
              "       width=\"24px\">\n",
              "    <path d=\"M0 0h24v24H0V0z\" fill=\"none\"/>\n",
              "    <path d=\"M18.56 5.44l.94 2.06.94-2.06 2.06-.94-2.06-.94-.94-2.06-.94 2.06-2.06.94zm-11 1L8.5 8.5l.94-2.06 2.06-.94-2.06-.94L8.5 2.5l-.94 2.06-2.06.94zm10 10l.94 2.06.94-2.06 2.06-.94-2.06-.94-.94-2.06-.94 2.06-2.06.94z\"/><path d=\"M17.41 7.96l-1.37-1.37c-.4-.4-.92-.59-1.43-.59-.52 0-1.04.2-1.43.59L10.3 9.45l-7.72 7.72c-.78.78-.78 2.05 0 2.83L4 21.41c.39.39.9.59 1.41.59.51 0 1.02-.2 1.41-.59l7.78-7.78 2.81-2.81c.8-.78.8-2.07 0-2.86zM5.41 20L4 18.59l7.72-7.72 1.47 1.35L5.41 20z\"/>\n",
              "  </svg>\n",
              "      </button>\n",
              "      \n",
              "  <style>\n",
              "    .colab-df-container {\n",
              "      display:flex;\n",
              "      flex-wrap:wrap;\n",
              "      gap: 12px;\n",
              "    }\n",
              "\n",
              "    .colab-df-convert {\n",
              "      background-color: #E8F0FE;\n",
              "      border: none;\n",
              "      border-radius: 50%;\n",
              "      cursor: pointer;\n",
              "      display: none;\n",
              "      fill: #1967D2;\n",
              "      height: 32px;\n",
              "      padding: 0 0 0 0;\n",
              "      width: 32px;\n",
              "    }\n",
              "\n",
              "    .colab-df-convert:hover {\n",
              "      background-color: #E2EBFA;\n",
              "      box-shadow: 0px 1px 2px rgba(60, 64, 67, 0.3), 0px 1px 3px 1px rgba(60, 64, 67, 0.15);\n",
              "      fill: #174EA6;\n",
              "    }\n",
              "\n",
              "    [theme=dark] .colab-df-convert {\n",
              "      background-color: #3B4455;\n",
              "      fill: #D2E3FC;\n",
              "    }\n",
              "\n",
              "    [theme=dark] .colab-df-convert:hover {\n",
              "      background-color: #434B5C;\n",
              "      box-shadow: 0px 1px 3px 1px rgba(0, 0, 0, 0.15);\n",
              "      filter: drop-shadow(0px 1px 2px rgba(0, 0, 0, 0.3));\n",
              "      fill: #FFFFFF;\n",
              "    }\n",
              "  </style>\n",
              "\n",
              "      <script>\n",
              "        const buttonEl =\n",
              "          document.querySelector('#df-e05c7efe-1270-4f64-954a-dc42d06f0400 button.colab-df-convert');\n",
              "        buttonEl.style.display =\n",
              "          google.colab.kernel.accessAllowed ? 'block' : 'none';\n",
              "\n",
              "        async function convertToInteractive(key) {\n",
              "          const element = document.querySelector('#df-e05c7efe-1270-4f64-954a-dc42d06f0400');\n",
              "          const dataTable =\n",
              "            await google.colab.kernel.invokeFunction('convertToInteractive',\n",
              "                                                     [key], {});\n",
              "          if (!dataTable) return;\n",
              "\n",
              "          const docLinkHtml = 'Like what you see? Visit the ' +\n",
              "            '<a target=\"_blank\" href=https://colab.research.google.com/notebooks/data_table.ipynb>data table notebook</a>'\n",
              "            + ' to learn more about interactive tables.';\n",
              "          element.innerHTML = '';\n",
              "          dataTable['output_type'] = 'display_data';\n",
              "          await google.colab.output.renderOutput(dataTable, element);\n",
              "          const docLink = document.createElement('div');\n",
              "          docLink.innerHTML = docLinkHtml;\n",
              "          element.appendChild(docLink);\n",
              "        }\n",
              "      </script>\n",
              "    </div>\n",
              "  </div>\n",
              "  "
            ]
          },
          "metadata": {},
          "execution_count": 49
        }
      ]
    },
    {
      "cell_type": "code",
      "source": [
        "plt.figure()\n",
        "df_documentary_music.plot(lw=2, colormap='jet', marker='.', markersize=10, title='Documentary Music Population')\n",
        "plt.xlabel('population size')\n",
        "plt.ylabel('score')\n",
        "plt.legend([\"n_genes=10\", \"n_genes=50\", \"n_genes=100\"])\n",
        "plt.show()"
      ],
      "metadata": {
        "colab": {
          "base_uri": "https://localhost:8080/",
          "height": 489
        },
        "id": "oPLLnvYuIcB4",
        "outputId": "3858415b-5e1e-4a0e-c67e-c2327e570361"
      },
      "execution_count": null,
      "outputs": [
        {
          "output_type": "display_data",
          "data": {
            "text/plain": [
              "<Figure size 640x480 with 0 Axes>"
            ]
          },
          "metadata": {}
        },
        {
          "output_type": "display_data",
          "data": {
            "text/plain": [
              "<Figure size 640x480 with 1 Axes>"
            ],
            "image/png": "[encoded data removed]"
          },
          "metadata": {}
        }
      ]
    },
    {
      "cell_type": "code",
      "source": [
        "f3 = open(f\"{root}/drama_scifi_results.json\")\n",
        "\n",
        "data4 = json.load(f3)"
      ],
      "metadata": {
        "id": "5VzC044rIe4K"
      },
      "execution_count": null,
      "outputs": []
    },
    {
      "cell_type": "code",
      "source": [
        "df_drama_scifi = pd.DataFrame(data4['drama_scifi']).applymap(lambda x: x['score'])"
      ],
      "metadata": {
        "id": "f4RoMJFBIuLL"
      },
      "execution_count": null,
      "outputs": []
    },
    {
      "cell_type": "code",
      "source": [
        "df_drama_scifi"
      ],
      "metadata": {
        "colab": {
          "base_uri": "https://localhost:8080/",
          "height": 143
        },
        "id": "ISa35nlxIxuP",
        "outputId": "696f9b6e-9362-4f9c-8934-15bbff77c3d8"
      },
      "execution_count": null,
      "outputs": [
        {
          "output_type": "execute_result",
          "data": {
            "text/plain": [
              "       10    50   100\n",
              "100  0.73  0.90  0.95\n",
              "200  0.77  0.96  0.95\n",
              "300  0.79  0.97  0.94"
            ],
            "text/html": [
              "\n",
              "  <div id=\"df-e33fbd82-0b72-44ae-8295-b6316b5e80ea\">\n",
              "    <div class=\"colab-df-container\">\n",
              "      <div>\n",
              "<style scoped>\n",
              "    .dataframe tbody tr th:only-of-type {\n",
              "        vertical-align: middle;\n",
              "    }\n",
              "\n",
              "    .dataframe tbody tr th {\n",
              "        vertical-align: top;\n",
              "    }\n",
              "\n",
              "    .dataframe thead th {\n",
              "        text-align: right;\n",
              "    }\n",
              "</style>\n",
              "<table border=\"1\" class=\"dataframe\">\n",
              "  <thead>\n",
              "    <tr style=\"text-align: right;\">\n",
              "      <th></th>\n",
              "      <th>10</th>\n",
              "      <th>50</th>\n",
              "      <th>100</th>\n",
              "    </tr>\n",
              "  </thead>\n",
              "  <tbody>\n",
              "    <tr>\n",
              "      <th>100</th>\n",
              "      <td>0.73</td>\n",
              "      <td>0.90</td>\n",
              "      <td>0.95</td>\n",
              "    </tr>\n",
              "    <tr>\n",
              "      <th>200</th>\n",
              "      <td>0.77</td>\n",
              "      <td>0.96</td>\n",
              "      <td>0.95</td>\n",
              "    </tr>\n",
              "    <tr>\n",
              "      <th>300</th>\n",
              "      <td>0.79</td>\n",
              "      <td>0.97</td>\n",
              "      <td>0.94</td>\n",
              "    </tr>\n",
              "  </tbody>\n",
              "</table>\n",
              "</div>\n",
              "      <button class=\"colab-df-convert\" onclick=\"convertToInteractive('df-e33fbd82-0b72-44ae-8295-b6316b5e80ea')\"\n",
              "              title=\"Convert this dataframe to an interactive table.\"\n",
              "              style=\"display:none;\">\n",
              "        \n",
              "  <svg xmlns=\"http://www.w3.org/2000/svg\" height=\"24px\"viewBox=\"0 0 24 24\"\n",
              "       width=\"24px\">\n",
              "    <path d=\"M0 0h24v24H0V0z\" fill=\"none\"/>\n",
              "    <path d=\"M18.56 5.44l.94 2.06.94-2.06 2.06-.94-2.06-.94-.94-2.06-.94 2.06-2.06.94zm-11 1L8.5 8.5l.94-2.06 2.06-.94-2.06-.94L8.5 2.5l-.94 2.06-2.06.94zm10 10l.94 2.06.94-2.06 2.06-.94-2.06-.94-.94-2.06-.94 2.06-2.06.94z\"/><path d=\"M17.41 7.96l-1.37-1.37c-.4-.4-.92-.59-1.43-.59-.52 0-1.04.2-1.43.59L10.3 9.45l-7.72 7.72c-.78.78-.78 2.05 0 2.83L4 21.41c.39.39.9.59 1.41.59.51 0 1.02-.2 1.41-.59l7.78-7.78 2.81-2.81c.8-.78.8-2.07 0-2.86zM5.41 20L4 18.59l7.72-7.72 1.47 1.35L5.41 20z\"/>\n",
              "  </svg>\n",
              "      </button>\n",
              "      \n",
              "  <style>\n",
              "    .colab-df-container {\n",
              "      display:flex;\n",
              "      flex-wrap:wrap;\n",
              "      gap: 12px;\n",
              "    }\n",
              "\n",
              "    .colab-df-convert {\n",
              "      background-color: #E8F0FE;\n",
              "      border: none;\n",
              "      border-radius: 50%;\n",
              "      cursor: pointer;\n",
              "      display: none;\n",
              "      fill: #1967D2;\n",
              "      height: 32px;\n",
              "      padding: 0 0 0 0;\n",
              "      width: 32px;\n",
              "    }\n",
              "\n",
              "    .colab-df-convert:hover {\n",
              "      background-color: #E2EBFA;\n",
              "      box-shadow: 0px 1px 2px rgba(60, 64, 67, 0.3), 0px 1px 3px 1px rgba(60, 64, 67, 0.15);\n",
              "      fill: #174EA6;\n",
              "    }\n",
              "\n",
              "    [theme=dark] .colab-df-convert {\n",
              "      background-color: #3B4455;\n",
              "      fill: #D2E3FC;\n",
              "    }\n",
              "\n",
              "    [theme=dark] .colab-df-convert:hover {\n",
              "      background-color: #434B5C;\n",
              "      box-shadow: 0px 1px 3px 1px rgba(0, 0, 0, 0.15);\n",
              "      filter: drop-shadow(0px 1px 2px rgba(0, 0, 0, 0.3));\n",
              "      fill: #FFFFFF;\n",
              "    }\n",
              "  </style>\n",
              "\n",
              "      <script>\n",
              "        const buttonEl =\n",
              "          document.querySelector('#df-e33fbd82-0b72-44ae-8295-b6316b5e80ea button.colab-df-convert');\n",
              "        buttonEl.style.display =\n",
              "          google.colab.kernel.accessAllowed ? 'block' : 'none';\n",
              "\n",
              "        async function convertToInteractive(key) {\n",
              "          const element = document.querySelector('#df-e33fbd82-0b72-44ae-8295-b6316b5e80ea');\n",
              "          const dataTable =\n",
              "            await google.colab.kernel.invokeFunction('convertToInteractive',\n",
              "                                                     [key], {});\n",
              "          if (!dataTable) return;\n",
              "\n",
              "          const docLinkHtml = 'Like what you see? Visit the ' +\n",
              "            '<a target=\"_blank\" href=https://colab.research.google.com/notebooks/data_table.ipynb>data table notebook</a>'\n",
              "            + ' to learn more about interactive tables.';\n",
              "          element.innerHTML = '';\n",
              "          dataTable['output_type'] = 'display_data';\n",
              "          await google.colab.output.renderOutput(dataTable, element);\n",
              "          const docLink = document.createElement('div');\n",
              "          docLink.innerHTML = docLinkHtml;\n",
              "          element.appendChild(docLink);\n",
              "        }\n",
              "      </script>\n",
              "    </div>\n",
              "  </div>\n",
              "  "
            ]
          },
          "metadata": {},
          "execution_count": 53
        }
      ]
    },
    {
      "cell_type": "code",
      "source": [
        "data4['drama_scifi']['50']['300']['individual']"
      ],
      "metadata": {
        "id": "bb7zExcaNKv1"
      },
      "execution_count": null,
      "outputs": []
    },
    {
      "cell_type": "code",
      "source": [
        "plt.figure()\n",
        "df_drama_scifi.plot(lw=2, colormap='jet', marker='.', markersize=10, title='Drama Scifi Population')\n",
        "plt.xlabel('population size')\n",
        "plt.ylabel('score')\n",
        "plt.legend([\"n_genes=10\", \"n_genes=50\", \"n_genes=100\"])\n",
        "plt.show()"
      ],
      "metadata": {
        "colab": {
          "base_uri": "https://localhost:8080/",
          "height": 489
        },
        "id": "fEG17YOhIy-R",
        "outputId": "69c39474-d4c5-44a2-a7d3-b6e91730fd65"
      },
      "execution_count": null,
      "outputs": [
        {
          "output_type": "display_data",
          "data": {
            "text/plain": [
              "<Figure size 640x480 with 0 Axes>"
            ]
          },
          "metadata": {}
        },
        {
          "output_type": "display_data",
          "data": {
            "text/plain": [
              "<Figure size 640x480 with 1 Axes>"
            ],
            "image/png": "[encoded data removed]"
          },
          "metadata": {}
        }
      ]
    },
    {
      "cell_type": "code",
      "source": [
        "f4 = open(f\"{root}/sport_animation_results.json\")\n",
        "\n",
        "data5 = json.load(f4)"
      ],
      "metadata": {
        "id": "QXvKJ9wwI18O"
      },
      "execution_count": null,
      "outputs": []
    },
    {
      "cell_type": "code",
      "source": [
        "df_sport_animation = pd.DataFrame(data5['sport_animation']).applymap(lambda x: x['score'])"
      ],
      "metadata": {
        "id": "zLwXvtFjJpjy"
      },
      "execution_count": null,
      "outputs": []
    },
    {
      "cell_type": "code",
      "source": [
        "df_sport_animation"
      ],
      "metadata": {
        "colab": {
          "base_uri": "https://localhost:8080/",
          "height": 143
        },
        "id": "RR0pjuAyJtMS",
        "outputId": "d8d014f0-a9c4-4627-da2b-8c23dde829fc"
      },
      "execution_count": null,
      "outputs": [
        {
          "output_type": "execute_result",
          "data": {
            "text/plain": [
              "       10    50   100\n",
              "100  0.76  0.95  0.93\n",
              "200  0.75  0.94  0.94\n",
              "300  0.84  0.96  0.98"
            ],
            "text/html": [
              "\n",
              "  <div id=\"df-f0adf919-8b6c-45e7-8259-0a6257bdaec2\">\n",
              "    <div class=\"colab-df-container\">\n",
              "      <div>\n",
              "<style scoped>\n",
              "    .dataframe tbody tr th:only-of-type {\n",
              "        vertical-align: middle;\n",
              "    }\n",
              "\n",
              "    .dataframe tbody tr th {\n",
              "        vertical-align: top;\n",
              "    }\n",
              "\n",
              "    .dataframe thead th {\n",
              "        text-align: right;\n",
              "    }\n",
              "</style>\n",
              "<table border=\"1\" class=\"dataframe\">\n",
              "  <thead>\n",
              "    <tr style=\"text-align: right;\">\n",
              "      <th></th>\n",
              "      <th>10</th>\n",
              "      <th>50</th>\n",
              "      <th>100</th>\n",
              "    </tr>\n",
              "  </thead>\n",
              "  <tbody>\n",
              "    <tr>\n",
              "      <th>100</th>\n",
              "      <td>0.76</td>\n",
              "      <td>0.95</td>\n",
              "      <td>0.93</td>\n",
              "    </tr>\n",
              "    <tr>\n",
              "      <th>200</th>\n",
              "      <td>0.75</td>\n",
              "      <td>0.94</td>\n",
              "      <td>0.94</td>\n",
              "    </tr>\n",
              "    <tr>\n",
              "      <th>300</th>\n",
              "      <td>0.84</td>\n",
              "      <td>0.96</td>\n",
              "      <td>0.98</td>\n",
              "    </tr>\n",
              "  </tbody>\n",
              "</table>\n",
              "</div>\n",
              "      <button class=\"colab-df-convert\" onclick=\"convertToInteractive('df-f0adf919-8b6c-45e7-8259-0a6257bdaec2')\"\n",
              "              title=\"Convert this dataframe to an interactive table.\"\n",
              "              style=\"display:none;\">\n",
              "        \n",
              "  <svg xmlns=\"http://www.w3.org/2000/svg\" height=\"24px\"viewBox=\"0 0 24 24\"\n",
              "       width=\"24px\">\n",
              "    <path d=\"M0 0h24v24H0V0z\" fill=\"none\"/>\n",
              "    <path d=\"M18.56 5.44l.94 2.06.94-2.06 2.06-.94-2.06-.94-.94-2.06-.94 2.06-2.06.94zm-11 1L8.5 8.5l.94-2.06 2.06-.94-2.06-.94L8.5 2.5l-.94 2.06-2.06.94zm10 10l.94 2.06.94-2.06 2.06-.94-2.06-.94-.94-2.06-.94 2.06-2.06.94z\"/><path d=\"M17.41 7.96l-1.37-1.37c-.4-.4-.92-.59-1.43-.59-.52 0-1.04.2-1.43.59L10.3 9.45l-7.72 7.72c-.78.78-.78 2.05 0 2.83L4 21.41c.39.39.9.59 1.41.59.51 0 1.02-.2 1.41-.59l7.78-7.78 2.81-2.81c.8-.78.8-2.07 0-2.86zM5.41 20L4 18.59l7.72-7.72 1.47 1.35L5.41 20z\"/>\n",
              "  </svg>\n",
              "      </button>\n",
              "      \n",
              "  <style>\n",
              "    .colab-df-container {\n",
              "      display:flex;\n",
              "      flex-wrap:wrap;\n",
              "      gap: 12px;\n",
              "    }\n",
              "\n",
              "    .colab-df-convert {\n",
              "      background-color: #E8F0FE;\n",
              "      border: none;\n",
              "      border-radius: 50%;\n",
              "      cursor: pointer;\n",
              "      display: none;\n",
              "      fill: #1967D2;\n",
              "      height: 32px;\n",
              "      padding: 0 0 0 0;\n",
              "      width: 32px;\n",
              "    }\n",
              "\n",
              "    .colab-df-convert:hover {\n",
              "      background-color: #E2EBFA;\n",
              "      box-shadow: 0px 1px 2px rgba(60, 64, 67, 0.3), 0px 1px 3px 1px rgba(60, 64, 67, 0.15);\n",
              "      fill: #174EA6;\n",
              "    }\n",
              "\n",
              "    [theme=dark] .colab-df-convert {\n",
              "      background-color: #3B4455;\n",
              "      fill: #D2E3FC;\n",
              "    }\n",
              "\n",
              "    [theme=dark] .colab-df-convert:hover {\n",
              "      background-color: #434B5C;\n",
              "      box-shadow: 0px 1px 3px 1px rgba(0, 0, 0, 0.15);\n",
              "      filter: drop-shadow(0px 1px 2px rgba(0, 0, 0, 0.3));\n",
              "      fill: #FFFFFF;\n",
              "    }\n",
              "  </style>\n",
              "\n",
              "      <script>\n",
              "        const buttonEl =\n",
              "          document.querySelector('#df-f0adf919-8b6c-45e7-8259-0a6257bdaec2 button.colab-df-convert');\n",
              "        buttonEl.style.display =\n",
              "          google.colab.kernel.accessAllowed ? 'block' : 'none';\n",
              "\n",
              "        async function convertToInteractive(key) {\n",
              "          const element = document.querySelector('#df-f0adf919-8b6c-45e7-8259-0a6257bdaec2');\n",
              "          const dataTable =\n",
              "            await google.colab.kernel.invokeFunction('convertToInteractive',\n",
              "                                                     [key], {});\n",
              "          if (!dataTable) return;\n",
              "\n",
              "          const docLinkHtml = 'Like what you see? Visit the ' +\n",
              "            '<a target=\"_blank\" href=https://colab.research.google.com/notebooks/data_table.ipynb>data table notebook</a>'\n",
              "            + ' to learn more about interactive tables.';\n",
              "          element.innerHTML = '';\n",
              "          dataTable['output_type'] = 'display_data';\n",
              "          await google.colab.output.renderOutput(dataTable, element);\n",
              "          const docLink = document.createElement('div');\n",
              "          docLink.innerHTML = docLinkHtml;\n",
              "          element.appendChild(docLink);\n",
              "        }\n",
              "      </script>\n",
              "    </div>\n",
              "  </div>\n",
              "  "
            ]
          },
          "metadata": {},
          "execution_count": 57
        }
      ]
    },
    {
      "cell_type": "code",
      "source": [
        "data5['sport_animation']['100']['300']['individual']"
      ],
      "metadata": {
        "id": "1ktBsisENMrW"
      },
      "execution_count": null,
      "outputs": []
    },
    {
      "cell_type": "code",
      "source": [
        "plt.figure()\n",
        "df_sport_animation.plot(lw=2, colormap='jet', marker='.', markersize=10, title='Sport Animation Population')\n",
        "plt.xlabel('population size')\n",
        "plt.ylabel('score')\n",
        "plt.legend([\"n_genes=10\", \"n_genes=50\", \"n_genes=100\"])\n",
        "plt.show()"
      ],
      "metadata": {
        "colab": {
          "base_uri": "https://localhost:8080/",
          "height": 489
        },
        "id": "mlVUp_VsJvFm",
        "outputId": "8f91ef63-579a-48cb-d9de-746526013bb0"
      },
      "execution_count": 84,
      "outputs": [
        {
          "output_type": "display_data",
          "data": {
            "text/plain": [
              "<Figure size 640x480 with 0 Axes>"
            ]
          },
          "metadata": {}
        },
        {
          "output_type": "display_data",
          "data": {
            "text/plain": [
              "<Figure size 640x480 with 1 Axes>"
            ],
            "image/png": "[encoded data removed]"
          },
          "metadata": {}
        }
      ]
    },
    {
      "cell_type": "code",
      "source": [
        "dataset_name = \"comedy_horror\" # \"sport_animation\", \"drama_scifi\", \"documentary_music\", \"crime_family\"\n",
        "n_genes = 10\n",
        "population_size = 100\n",
        "mutation_rate = 0.1\n",
        "n_generations = 30"
      ],
      "metadata": {
        "id": "XLUIVjGiQ5Jb"
      },
      "execution_count": 85,
      "outputs": []
    },
    {
      "cell_type": "code",
      "source": [
        "df = pd.read_csv(f\"{root}/{dataset_name}.csv\")\n",
        "df['description'] = df['description'].apply(preprocess)\n",
        "all_words = list(set(' '.join(df['description']).split()))\n",
        "\n",
        "_,_,scores = genetic_algorithm(df, all_words, population_size, n_genes, mutation_rate, n_generations)"
      ],
      "metadata": {
        "id": "YUtd7t0VJy5N"
      },
      "execution_count": 102,
      "outputs": []
    },
    {
      "cell_type": "code",
      "source": [
        "scores"
      ],
      "metadata": {
        "id": "6mzrqgs9RqHk"
      },
      "execution_count": null,
      "outputs": []
    },
    {
      "cell_type": "code",
      "source": [
        "plt.plot(scores, color='magenta', marker='o',mfc='pink' ) #plot the data\n",
        "plt.xticks(range(0,len(scores)+1, 1)) #set the tick frequency on x-axis\n",
        "\n",
        "plt.ylabel('data') #set the label for y axis\n",
        "plt.xlabel('index') #set the label for x-axis\n",
        "plt.title(\"Plotting a list\") #set the title of the graph\n",
        "plt.show() #display the graph"
      ],
      "metadata": {
        "colab": {
          "base_uri": "https://localhost:8080/",
          "height": 472
        },
        "id": "M-msSyaES4R4",
        "outputId": "9f9d091f-05bf-4c72-dcce-e74b57a49802"
      },
      "execution_count": 104,
      "outputs": [
        {
          "output_type": "display_data",
          "data": {
            "text/plain": [
              "<Figure size 640x480 with 1 Axes>"
            ],
            "image/png": "[encoded data removed]"
          },
          "metadata": {}
        }
      ]
    },
    {
      "cell_type": "code",
      "source": [],
      "metadata": {
        "id": "H_RCDG92S_uL"
      },
      "execution_count": 104,
      "outputs": []
    },
    {
      "cell_type": "code",
      "source": [],
      "metadata": {
        "id": "jyVBUlEsTT5H"
      },
      "execution_count": null,
      "outputs": []
    }
  ]
}